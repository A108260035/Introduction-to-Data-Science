{
  "nbformat": 4,
  "nbformat_minor": 0,
  "metadata": {
    "colab": {
      "name": "Week16-A108260035-許瀞蔆.ipynb",
      "provenance": [],
      "include_colab_link": true
    },
    "kernelspec": {
      "name": "python3",
      "display_name": "Python 3"
    }
  },
  "cells": [
    {
      "cell_type": "markdown",
      "metadata": {
        "id": "view-in-github",
        "colab_type": "text"
      },
      "source": [
        "<a href=\"https://colab.research.google.com/github/A316895/Introduction-to-Data-Science/blob/master/Week16_A108260035_%E8%A8%B1%E7%80%9E%E8%94%86.ipynb\" target=\"_parent\"><img src=\"https://colab.research.google.com/assets/colab-badge.svg\" alt=\"Open In Colab\"/></a>"
      ]
    },
    {
      "cell_type": "code",
      "metadata": {
        "id": "cIrFhkjbm4Tx",
        "colab_type": "code",
        "colab": {
          "base_uri": "https://localhost:8080/",
          "height": 68
        },
        "outputId": "90546e98-28d7-443b-a17c-39c9e5a7e257"
      },
      "source": [
        "i=1\n",
        "while(i<6):\n",
        "  print(i)\n",
        "  if i ==3:\n",
        "    break\n",
        "  i+=1"
      ],
      "execution_count": 2,
      "outputs": [
        {
          "output_type": "stream",
          "text": [
            "1\n",
            "2\n",
            "3\n"
          ],
          "name": "stdout"
        }
      ]
    },
    {
      "cell_type": "code",
      "metadata": {
        "id": "QIfKI_kktAwH",
        "colab_type": "code",
        "colab": {
          "base_uri": "https://localhost:8080/",
          "height": 85
        },
        "outputId": "da4d14b0-6c32-47f8-cb5d-5d853b98965f"
      },
      "source": [
        "i=0\n",
        "while(i<5):\n",
        "  i+=1\n",
        "  if i==3:\n",
        "    continue\n",
        "  print(i)"
      ],
      "execution_count": 3,
      "outputs": [
        {
          "output_type": "stream",
          "text": [
            "1\n",
            "2\n",
            "4\n",
            "5\n"
          ],
          "name": "stdout"
        }
      ]
    },
    {
      "cell_type": "code",
      "metadata": {
        "id": "bFTjG38ftQSD",
        "colab_type": "code",
        "colab": {
          "base_uri": "https://localhost:8080/",
          "height": 119
        },
        "outputId": "353a911f-4d9c-467b-8af7-3cec50d7b9ba"
      },
      "source": [
        "i=1\n",
        "while(i<6):\n",
        "  print(i)\n",
        "  if i==6:\n",
        "    break\n",
        "  i+=1\n",
        "else:\n",
        "  print(\"while迴圈正常結束\")"
      ],
      "execution_count": 4,
      "outputs": [
        {
          "output_type": "stream",
          "text": [
            "1\n",
            "2\n",
            "3\n",
            "4\n",
            "5\n",
            "while迴圈正常結束\n"
          ],
          "name": "stdout"
        }
      ]
    },
    {
      "cell_type": "code",
      "metadata": {
        "id": "Tn0o4zantywd",
        "colab_type": "code",
        "colab": {
          "base_uri": "https://localhost:8080/",
          "height": 119
        },
        "outputId": "4322b818-c6c0-4e67-c270-5829ea2bc6f9"
      },
      "source": [
        "while True:\n",
        "  acc=input('請輸入帳號')\n",
        "  pwd=input('請輸入密碼')\n",
        "  if (acc =='abc' and pwd =='123'):\n",
        "    print('帳號與密碼正確')\n",
        "    break\n",
        "  else:\n",
        "    print('登入失敗')"
      ],
      "execution_count": 6,
      "outputs": [
        {
          "output_type": "stream",
          "text": [
            "請輸入帳號123\n",
            "請輸入密碼123\n",
            "登入失敗\n",
            "請輸入帳號abc\n",
            "請輸入密碼123\n",
            "帳號與密碼正確\n"
          ],
          "name": "stdout"
        }
      ]
    },
    {
      "cell_type": "code",
      "metadata": {
        "id": "drW3oeesvHIg",
        "colab_type": "code",
        "colab": {
          "base_uri": "https://localhost:8080/",
          "height": 51
        },
        "outputId": "294abe05-dd58-4e9b-97c1-ffed7174c22c"
      },
      "source": [
        "answer=\"b246\"\n",
        "while True:\n",
        "  password=input(\"Enter your password\")\n",
        "  if password==answer:\n",
        "    print(\"ENTER THE SYSTEM\")\n",
        "    break\n",
        "  else:\n",
        "    print(\"Try Again\")"
      ],
      "execution_count": 7,
      "outputs": [
        {
          "output_type": "stream",
          "text": [
            "Enter your passwordb246\n",
            "ENTER THE SYSTEM\n"
          ],
          "name": "stdout"
        }
      ]
    },
    {
      "cell_type": "code",
      "metadata": {
        "id": "ZOD6enlzwgpC",
        "colab_type": "code",
        "colab": {
          "base_uri": "https://localhost:8080/",
          "height": 119
        },
        "outputId": "1ca6817b-b9cc-4367-e32f-437105ae31b6"
      },
      "source": [
        "password=\"a123456\"\n",
        "times=0\n",
        "while times <= 3:\n",
        "  answer=input(\"Enter Your Password:\")\n",
        "  if answer == password:\n",
        "    print(\"登入成功\")\n",
        "    break\n",
        "  else:\n",
        "    times=times+1\n",
        "    chance=3-times\n",
        "    print(\"密碼錯誤!還有\", chance, \"次機會\")"
      ],
      "execution_count": 8,
      "outputs": [
        {
          "output_type": "stream",
          "text": [
            "Enter Your Password:a12345\n",
            "密碼錯誤!還有 2 次機會\n",
            "Enter Your Password:a123\n",
            "密碼錯誤!還有 1 次機會\n",
            "Enter Your Password:a123456\n",
            "登入成功\n"
          ],
          "name": "stdout"
        }
      ]
    },
    {
      "cell_type": "code",
      "metadata": {
        "id": "sYqy5vptz_4Y",
        "colab_type": "code",
        "colab": {
          "base_uri": "https://localhost:8080/",
          "height": 102
        },
        "outputId": "deb36b8e-de32-4684-a0fd-638769a9de09"
      },
      "source": [
        "range(5)\n",
        "range(3)\n",
        "\n",
        "range(2,5)\n",
        "range(8,10)\n",
        "\n",
        "range(2,10,3)\n",
        "for i in range(5):\n",
        "  print(i)"
      ],
      "execution_count": 9,
      "outputs": [
        {
          "output_type": "stream",
          "text": [
            "0\n",
            "1\n",
            "2\n",
            "3\n",
            "4\n"
          ],
          "name": "stdout"
        }
      ]
    },
    {
      "cell_type": "code",
      "metadata": {
        "id": "2S9Hu4BV3qxO",
        "colab_type": "code",
        "colab": {
          "base_uri": "https://localhost:8080/",
          "height": 34
        },
        "outputId": "caa1abc8-af55-49b2-98cb-322027b72578"
      },
      "source": [
        "range(5)\n",
        "\n",
        "range(3)\n",
        "\n",
        "range(2,5)\n",
        "range(8,10)\n",
        "\n",
        "range(2,10,3)\n",
        "range(3,8,2)\n",
        "range(10,3,-2)"
      ],
      "execution_count": 10,
      "outputs": [
        {
          "output_type": "execute_result",
          "data": {
            "text/plain": [
              "range(10, 3, -2)"
            ]
          },
          "metadata": {
            "tags": []
          },
          "execution_count": 10
        }
      ]
    },
    {
      "cell_type": "code",
      "metadata": {
        "id": "hqqb2ekC4iaD",
        "colab_type": "code",
        "colab": {
          "base_uri": "https://localhost:8080/",
          "height": 204
        },
        "outputId": "8f38f07b-a1e9-4bdc-deb9-db9f00754194"
      },
      "source": [
        "for i in range(5):\n",
        "  print(i)\n",
        "for i in range(2,5):\n",
        "  print(i)\n",
        "for i in range(2,10,3):\n",
        "  print(i)"
      ],
      "execution_count": 12,
      "outputs": [
        {
          "output_type": "stream",
          "text": [
            "0\n",
            "1\n",
            "2\n",
            "3\n",
            "4\n",
            "2\n",
            "3\n",
            "4\n",
            "2\n",
            "5\n",
            "8\n"
          ],
          "name": "stdout"
        }
      ]
    },
    {
      "cell_type": "code",
      "metadata": {
        "id": "j69p7r9o42Ba",
        "colab_type": "code",
        "colab": {
          "base_uri": "https://localhost:8080/",
          "height": 85
        },
        "outputId": "51064a31-891b-4589-8cdf-7ce1ea05e6ef"
      },
      "source": [
        "start=int(input(\"Enter a number?\"))\n",
        "end=int(input(\"Enter a number?\"))\n",
        "step=int(input(\"Enter a number?\"))\n",
        "sum=0\n",
        "for i in range(start,end,step):\n",
        "  sum=sum+i\n",
        "  print(\"i is\", i, \"sum equals\",sum)"
      ],
      "execution_count": 15,
      "outputs": [
        {
          "output_type": "stream",
          "text": [
            "Enter a number?3\n",
            "Enter a number?6\n",
            "Enter a number?9\n",
            "i is 3 sum equals 3\n"
          ],
          "name": "stdout"
        }
      ]
    },
    {
      "cell_type": "code",
      "metadata": {
        "id": "rYC5xLcR7_FZ",
        "colab_type": "code",
        "colab": {}
      },
      "source": [
        ""
      ],
      "execution_count": 0,
      "outputs": []
    }
  ]
}