{
  "nbformat": 4,
  "nbformat_minor": 0,
  "metadata": {
    "colab": {
      "name": "Week12-A108260035-許瀞蔆.ipynb",
      "provenance": [],
      "include_colab_link": true
    },
    "kernelspec": {
      "name": "python3",
      "display_name": "Python 3"
    }
  },
  "cells": [
    {
      "cell_type": "markdown",
      "metadata": {
        "id": "view-in-github",
        "colab_type": "text"
      },
      "source": [
        "<a href=\"https://colab.research.google.com/github/A316895/Introduction-to-Data-Science/blob/master/Week12_A108260035_%E8%A8%B1%E7%80%9E%E8%94%86.ipynb\" target=\"_parent\"><img src=\"https://colab.research.google.com/assets/colab-badge.svg\" alt=\"Open In Colab\"/></a>"
      ]
    },
    {
      "cell_type": "code",
      "metadata": {
        "id": "ntC59skPc4c2",
        "colab_type": "code",
        "outputId": "9fcdba9b-262d-4fdf-fe81-44b25189c85e",
        "colab": {
          "base_uri": "https://localhost:8080/",
          "height": 170
        }
      },
      "source": [
        "print(False)\n",
        "print(True)\n",
        "print(False==0)\n",
        "print(True==1)\n",
        "print(False+3)\n",
        "print(True+3)\n",
        "print(bool(1))\n",
        "print(bool(0))\n",
        "print(bool(()))"
      ],
      "execution_count": 0,
      "outputs": [
        {
          "output_type": "stream",
          "text": [
            "False\n",
            "True\n",
            "True\n",
            "True\n",
            "3\n",
            "4\n",
            "True\n",
            "False\n",
            "False\n"
          ],
          "name": "stdout"
        }
      ]
    },
    {
      "cell_type": "code",
      "metadata": {
        "id": "wRE3xwdKgRzC",
        "colab_type": "code",
        "outputId": "fb79ae78-9fb0-4ffa-b3b8-f8286c9fd63a",
        "colab": {
          "base_uri": "https://localhost:8080/",
          "height": 119
        }
      },
      "source": [
        "print(8==7)\n",
        "print(8!=7)\n",
        "print(8>7)\n",
        "print(8>=7)\n",
        "print(8<7)\n",
        "print(8<=7)"
      ],
      "execution_count": 0,
      "outputs": [
        {
          "output_type": "stream",
          "text": [
            "False\n",
            "True\n",
            "True\n",
            "True\n",
            "False\n",
            "False\n"
          ],
          "name": "stdout"
        }
      ]
    },
    {
      "cell_type": "code",
      "metadata": {
        "id": "9Q5uQuY4hNx-",
        "colab_type": "code",
        "outputId": "6c2177dd-a972-446b-8466-7818d0df1456",
        "colab": {
          "base_uri": "https://localhost:8080/",
          "height": 119
        }
      },
      "source": [
        "print(True and False)\n",
        "print(True or False)\n",
        "print(not(8>7))\n",
        "x=70\n",
        "print((x>60) and (x<80))\n",
        "print((x>60) or (x<80))\n",
        "print(not(x>60))"
      ],
      "execution_count": 0,
      "outputs": [
        {
          "output_type": "stream",
          "text": [
            "False\n",
            "True\n",
            "False\n",
            "True\n",
            "True\n",
            "False\n"
          ],
          "name": "stdout"
        }
      ]
    },
    {
      "cell_type": "code",
      "metadata": {
        "id": "eaqgiLigiLmr",
        "colab_type": "code",
        "outputId": "5997950c-a987-4835-83de-c28ca19bd534",
        "colab": {
          "base_uri": "https://localhost:8080/",
          "height": 68
        }
      },
      "source": [
        "print(\"H\" in \"Hello world\")\n",
        "print(8 is 7)\n",
        "print(8 is not 7)"
      ],
      "execution_count": 0,
      "outputs": [
        {
          "output_type": "stream",
          "text": [
            "True\n",
            "False\n",
            "True\n"
          ],
          "name": "stdout"
        }
      ]
    },
    {
      "cell_type": "code",
      "metadata": {
        "id": "J1VLhE99iiTj",
        "colab_type": "code",
        "outputId": "95797726-650d-4e16-f3d6-31d4c624dc04",
        "colab": {
          "base_uri": "https://localhost:8080/",
          "height": 102
        }
      },
      "source": [
        "player=\"Ron Harper\"\n",
        "player_list=[\"Ron Harper\", \"Michael Jordan\", \"Scottie Pippen\", \"Dennis Rodman\", \"Luc Longley\"]\n",
        "player_tuple=tuple(player_list)\n",
        "player_dict={\"PG\": \"Ron Harper\",\n",
        "             \"SG\": \"Michael Jordan\",\n",
        "             \"SF\": \"Scottie Pippen\",\n",
        "             \"PF\": \"Dennis Rodman\",\n",
        "             \"C\": \"Luc Longley\"}\n",
        "player_set=set(player_list)\n",
        "print(type(player))\n",
        "print(type(player_list))\n",
        "print(type(player_tuple))\n",
        "print(type(player_dict))\n",
        "print(type(player_set))"
      ],
      "execution_count": 0,
      "outputs": [
        {
          "output_type": "stream",
          "text": [
            "<class 'str'>\n",
            "<class 'list'>\n",
            "<class 'tuple'>\n",
            "<class 'dict'>\n",
            "<class 'set'>\n"
          ],
          "name": "stdout"
        }
      ]
    },
    {
      "cell_type": "code",
      "metadata": {
        "id": "_z98lUsWmZJT",
        "colab_type": "code",
        "outputId": "b7c8fcf0-9b86-4702-efc7-82b4934c59f0",
        "colab": {
          "base_uri": "https://localhost:8080/",
          "height": 102
        }
      },
      "source": [
        "s={1,2,3,4}\n",
        "print(s)\n",
        "s=set(('a',1,'b',2))\n",
        "print(s)\n",
        "s=set(['apple','banana','apple'])\n",
        "print(s)\n",
        "s=set({'早安':'Good Morning', '您好':'Hello'})\n",
        "print(s)\n",
        "s=set('racecar')\n",
        "print(s)"
      ],
      "execution_count": 0,
      "outputs": [
        {
          "output_type": "stream",
          "text": [
            "{1, 2, 3, 4}\n",
            "{1, 2, 'a', 'b'}\n",
            "{'banana', 'apple'}\n",
            "{'您好', '早安'}\n",
            "{'e', 'a', 'c', 'r'}\n"
          ],
          "name": "stdout"
        }
      ]
    },
    {
      "cell_type": "code",
      "metadata": {
        "id": "SGNNqOrkpB43",
        "colab_type": "code",
        "colab": {
          "base_uri": "https://localhost:8080/",
          "height": 85
        },
        "outputId": "5685c765-f572-4d62-c9b9-05acb8995b38"
      },
      "source": [
        "t1=()\n",
        "print(t1)\n",
        "t2=(1,2,3)\n",
        "print(t2)\n",
        "t3=(1,2,3,4)\n",
        "t4=(t3,5,6)\n",
        "print(t4)\n",
        "list1=[1,2,3,4]\n",
        "t5=tuple(list1)\n",
        "print(t5)"
      ],
      "execution_count": 11,
      "outputs": [
        {
          "output_type": "stream",
          "text": [
            "()\n",
            "(1, 2, 3)\n",
            "((1, 2, 3, 4), 5, 6)\n",
            "(1, 2, 3, 4)\n"
          ],
          "name": "stdout"
        }
      ]
    },
    {
      "cell_type": "code",
      "metadata": {
        "id": "6zLLGAP1q8st",
        "colab_type": "code",
        "colab": {
          "base_uri": "https://localhost:8080/",
          "height": 51
        },
        "outputId": "caea7529-d5a1-4d2d-ebb8-37d5a4776b9f"
      },
      "source": [
        "s1=\"123\"\n",
        "s2=\"456\"\n",
        "s3=s1+s2\n",
        "print(s3)\n",
        "s4=s1*2\n",
        "print(s4)"
      ],
      "execution_count": 12,
      "outputs": [
        {
          "output_type": "stream",
          "text": [
            "123456\n",
            "123123\n"
          ],
          "name": "stdout"
        }
      ]
    },
    {
      "cell_type": "code",
      "metadata": {
        "id": "5m-DrMmcslvE",
        "colab_type": "code",
        "colab": {
          "base_uri": "https://localhost:8080/",
          "height": 85
        },
        "outputId": "d7a9bfcf-dbde-417a-d5b6-02f5235c47e8"
      },
      "source": [
        "s='0123456789'\n",
        "print(s[0])\n",
        "print('s[1]=',s[1])\n",
        "print(s[-1])\n",
        "print('s[-2]',s[-2])"
      ],
      "execution_count": 13,
      "outputs": [
        {
          "output_type": "stream",
          "text": [
            "0\n",
            "s[1]= 1\n",
            "9\n",
            "s[-2] 8\n"
          ],
          "name": "stdout"
        }
      ]
    },
    {
      "cell_type": "code",
      "metadata": {
        "id": "R9WGQicTtL7Y",
        "colab_type": "code",
        "colab": {
          "base_uri": "https://localhost:8080/",
          "height": 51
        },
        "outputId": "1486038d-861c-4335-a055-c9fdd4324f7d"
      },
      "source": [
        "s='春眠不覺曉，處處聞啼鳥，夜來風雨聲，花落知多少。'\n",
        "print(len(s))\n",
        "s='春眠不覺曉，處處聞啼鳥，夜來風雨聲，花落知多少。'\n",
        "list1=s.split('，')\n",
        "print(list1)"
      ],
      "execution_count": 15,
      "outputs": [
        {
          "output_type": "stream",
          "text": [
            "24\n",
            "['春眠不覺曉', '處處聞啼鳥', '夜來風雨聲', '花落知多少。']\n"
          ],
          "name": "stdout"
        }
      ]
    },
    {
      "cell_type": "code",
      "metadata": {
        "id": "_jgEbbVRt_yR",
        "colab_type": "code",
        "colab": {}
      },
      "source": [
        ""
      ],
      "execution_count": 0,
      "outputs": []
    }
  ]
}