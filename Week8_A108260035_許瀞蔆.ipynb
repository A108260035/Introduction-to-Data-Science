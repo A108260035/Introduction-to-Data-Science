{
  "nbformat": 4,
  "nbformat_minor": 0,
  "metadata": {
    "colab": {
      "name": "Week8-A108260035-許瀞蔆.ipynb",
      "provenance": [],
      "include_colab_link": true
    },
    "kernelspec": {
      "name": "python3",
      "display_name": "Python 3"
    }
  },
  "cells": [
    {
      "cell_type": "markdown",
      "metadata": {
        "id": "view-in-github",
        "colab_type": "text"
      },
      "source": [
        "<a href=\"https://colab.research.google.com/github/A316895/Introduction-to-Data-Science/blob/master/Week8_A108260035_%E8%A8%B1%E7%80%9E%E8%94%86.ipynb\" target=\"_parent\"><img src=\"https://colab.research.google.com/assets/colab-badge.svg\" alt=\"Open In Colab\"/></a>"
      ]
    },
    {
      "cell_type": "code",
      "metadata": {
        "id": "vflb3FX4QJBV",
        "colab_type": "code",
        "colab": {
          "base_uri": "https://localhost:8080/",
          "height": 68
        },
        "outputId": "e591a241-e61a-47ea-8668-c0ba6e354f2b"
      },
      "source": [
        "print(\"Welcome to the Mashup Game\")\n",
        "name1=input(\"Enter one full name (FIRST LAST):\")\n",
        "name2=input(\"Enter another full name(FIRST LAST):\")"
      ],
      "execution_count": 1,
      "outputs": [
        {
          "output_type": "stream",
          "text": [
            "Welcome to the Mashup Game\n",
            "Enter one full name (FIRST LAST):Aqua Man\n",
            "Enter another full name(FIRST LAST):Cat Woman\n"
          ],
          "name": "stdout"
        }
      ]
    },
    {
      "cell_type": "code",
      "metadata": {
        "id": "cV2k9chFR5hS",
        "colab_type": "code",
        "colab": {
          "base_uri": "https://localhost:8080/",
          "height": 68
        },
        "outputId": "2f2d8f7f-a9cc-4e87-99d0-01af15063d5f"
      },
      "source": [
        "print(\"All done! Here are two possibilities, pick the one you like best!\")\n",
        "print(newname1_first, newname1_last)\n",
        "print(newname2_first, newname2_last)"
      ],
      "execution_count": 10,
      "outputs": [
        {
          "output_type": "stream",
          "text": [
            "All done! Here are two possibilities, pick the one you like best!\n",
            "Aqua Mman\n",
            "Cua Woan\n"
          ],
          "name": "stdout"
        }
      ]
    },
    {
      "cell_type": "code",
      "metadata": {
        "id": "B98l_23xTNTB",
        "colab_type": "code",
        "colab": {
          "base_uri": "https://localhost:8080/",
          "height": 85
        },
        "outputId": "42fa84cb-7d92-41cc-f853-26a2c299cdb5"
      },
      "source": [
        "space = name1.find(\" \")\n",
        "name1_first = name1[0:space]\n",
        "name1_last = name1[space+1:len(name1)]\n",
        "space = name2.find(\" \")\n",
        "name2_first = name2[0:space]\n",
        "name2_last = name2[space+1:len(name2)]\n",
        "\n",
        "print(name1_first)\n",
        "print(name1_last)\n",
        "print(name2_first)\n",
        "print(name2_last)\n",
        "\n",
        "len_name1_first = len(name1_first)\n",
        "len_name2_first = len(name2_first)\n",
        "len_name1_last = len(name1_last)\n",
        "len_name2_last = len(name2_last)\n",
        "index_name1_first = int(len_name1_first/2)\n",
        "index_name2_first = int(len_name2_first/2)\n",
        "index_name1_last = int(len_name1_last/2)\n",
        "index_name2_last = int(len_name2_last/2)\n",
        "\n",
        "lefthalf_name1_first = name1_first[0:index_name1_first]\n",
        "righthalf_name1_first = name1_first[index_name1_first:len_name1_first]\n",
        "lefthalf_name2_first = name2_first[0:index_name2_first]\n",
        "righthalf_name2_first = name2_first[index_name2_first:len_name2_first]\n",
        "lefthalf_name1_last = name1_last[0:index_name1_last]\n",
        "righthalf_name1_last = name1_last[index_name1_last:len_name1_last]\n",
        "lefthalf_name2_last = name2_last[0:index_name2_last]\n",
        "righthalf_name2_last = name2_last[index_name2_last:len_name2_last]\n",
        "\n",
        "newname1_first = lefthalf_name1_first.capitalize() + righthalf_name1_first.lower()\n",
        "newname1_last = lefthalf_name1_last.capitalize() + righthalf_name2_last.lower()\n",
        "newname2_first = lefthalf_name2_first.capitalize() + righthalf_name1_first.lower()\n",
        "newname2_last = lefthalf_name2_last.capitalize() + righthalf_name1_last.lower()"
      ],
      "execution_count": 11,
      "outputs": [
        {
          "output_type": "stream",
          "text": [
            "Aqua\n",
            "Man\n",
            "Cat\n",
            "Woman\n"
          ],
          "name": "stdout"
        }
      ]
    },
    {
      "cell_type": "code",
      "metadata": {
        "id": "_lH1zUHXb5Et",
        "colab_type": "code",
        "colab": {
          "base_uri": "https://localhost:8080/",
          "height": 51
        },
        "outputId": "cfc6f820-6c97-41c4-8b72-c024bb064bc2"
      },
      "source": [
        " s=input('請輸入一個字串')\n",
        " print('迴文判斷結果為',s==s[::-1])"
      ],
      "execution_count": 12,
      "outputs": [
        {
          "output_type": "stream",
          "text": [
            "請輸入一個字串abcdefggfedcba\n",
            "迴文判斷結果為 True\n"
          ],
          "name": "stdout"
        }
      ]
    },
    {
      "cell_type": "code",
      "metadata": {
        "id": "1hsAGZ4-exZP",
        "colab_type": "code",
        "colab": {
          "base_uri": "https://localhost:8080/",
          "height": 136
        },
        "outputId": "588c897c-8744-418f-8f03-deaf952e8eac"
      },
      "source": [
        "待辦事項=[]\n",
        "工作=input('請輸入待辦事項')\n",
        "待辦事項.append(工作)\n",
        "工作=input('請輸入待辦事項')\n",
        "待辦事項.append(工作)\n",
        "工作=input('請輸入待辦事項')\n",
        "待辦事項.append(工作)\n",
        "工作=input('請輸入待辦事項')\n",
        "待辦事項.append(工作)\n",
        "工作=input('請輸入待辦事項')\n",
        "待辦事項.append(工作)\n",
        "print(待辦事項.pop(0),待辦事項.pop(0),待辦事項)\n",
        "print(待辦事項.pop(0),待辦事項)"
      ],
      "execution_count": 15,
      "outputs": [
        {
          "output_type": "stream",
          "text": [
            "請輸入待辦事項打球\n",
            "請輸入待辦事項閱讀\n",
            "請輸入待辦事項吃飯\n",
            "請輸入待辦事項借書\n",
            "請輸入待辦事項寫程式\n",
            "打球 閱讀 ['吃飯', '借書', '寫程式']\n",
            "吃飯 ['借書', '寫程式']\n"
          ],
          "name": "stdout"
        }
      ]
    },
    {
      "cell_type": "code",
      "metadata": {
        "id": "5ehu1S2IfyYK",
        "colab_type": "code",
        "colab": {
          "base_uri": "https://localhost:8080/",
          "height": 85
        },
        "outputId": "b78cefb8-dd85-4d53-e67e-ef44c6ec00cd"
      },
      "source": [
        "s=input('請輸入一行英文句子')\n",
        "words = s.split(' ')\n",
        "print('將英文句子以空白字元切割後，獲得單字為',words)\n",
        "s2 = ' '.join(words)\n",
        "print('以空白字元結合所有單字後，獲得句子為',s2)\n",
        "s3 = s.title()\n",
        "print('將每個單字字首轉大寫後，獲得句子為',s3)"
      ],
      "execution_count": 17,
      "outputs": [
        {
          "output_type": "stream",
          "text": [
            "請輸入一行英文句子an apple a day keeps the doctor away \n",
            "將英文句子以空白字元切割後，獲得單字為 ['an', 'apple', 'a', 'day', 'keeps', 'the', 'doctor', 'away', '']\n",
            "以空白字元結合所有單字後，獲得句子為 an apple a day keeps the doctor away \n",
            "將每個單字字首轉大寫後，獲得句子為 An Apple A Day Keeps The Doctor Away \n"
          ],
          "name": "stdout"
        }
      ]
    },
    {
      "cell_type": "code",
      "metadata": {
        "id": "rkwRlzvXjGpF",
        "colab_type": "code",
        "colab": {
          "base_uri": "https://localhost:8080/",
          "height": 51
        },
        "outputId": "76c5e142-883d-4ab6-beba-b98ed0fe458d"
      },
      "source": [
        "s = input('請輸入一行英文句子？')\n",
        "s.strip(' .')\n",
        "words = s.split(' ')\n",
        "print(words[::-1])"
      ],
      "execution_count": 19,
      "outputs": [
        {
          "output_type": "stream",
          "text": [
            "請輸入一行英文句子？an apple a day keeps the doctor away\n",
            "['away', 'doctor', 'the', 'keeps', 'day', 'a', 'apple', 'an']\n"
          ],
          "name": "stdout"
        }
      ]
    },
    {
      "cell_type": "code",
      "metadata": {
        "id": "y_rHEveIj2Tk",
        "colab_type": "code",
        "colab": {}
      },
      "source": [
        ""
      ],
      "execution_count": 0,
      "outputs": []
    }
  ]
}