{
  "nbformat": 4,
  "nbformat_minor": 0,
  "metadata": {
    "colab": {
      "name": "Week9-A108260035-許瀞蔆.ipynb",
      "provenance": [],
      "include_colab_link": true
    },
    "kernelspec": {
      "name": "python3",
      "display_name": "Python 3"
    }
  },
  "cells": [
    {
      "cell_type": "markdown",
      "metadata": {
        "id": "view-in-github",
        "colab_type": "text"
      },
      "source": [
        "<a href=\"https://colab.research.google.com/github/A316895/Introduction-to-Data-Science/blob/master/Week9_A108260035_%E8%A8%B1%E7%80%9E%E8%94%86.ipynb\" target=\"_parent\"><img src=\"https://colab.research.google.com/assets/colab-badge.svg\" alt=\"Open In Colab\"/></a>"
      ]
    },
    {
      "cell_type": "code",
      "metadata": {
        "id": "49TCdy-ufIt3",
        "colab_type": "code",
        "outputId": "d7c473ba-9e1a-45cb-9498-3541a353f689",
        "colab": {
          "base_uri": "https://localhost:8080/",
          "height": 51
        }
      },
      "source": [
        "score = int(input('請輸入⼀個成績？'))\n",
        "if score >= 60:\n",
        "    print('很好，請繼續保持下去')"
      ],
      "execution_count": 0,
      "outputs": [
        {
          "output_type": "stream",
          "text": [
            "請輸入⼀個成績？88\n",
            "很好，請繼續保持下去\n"
          ],
          "name": "stdout"
        }
      ]
    },
    {
      "cell_type": "code",
      "metadata": {
        "id": "nHXrATMpfQJc",
        "colab_type": "code",
        "outputId": "d5aef8a6-0e18-4630-ed39-c604275cf5ff",
        "colab": {
          "base_uri": "https://localhost:8080/",
          "height": 51
        }
      },
      "source": [
        "score = int(input('請輸入一個成績?'))\n",
        "if score >= 60:\n",
        "  print('有及格')\n",
        "else:\n",
        "  print('不及格')"
      ],
      "execution_count": 0,
      "outputs": [
        {
          "output_type": "stream",
          "text": [
            "請輸入一個成績?29\n",
            "不及格\n"
          ],
          "name": "stdout"
        }
      ]
    },
    {
      "cell_type": "code",
      "metadata": {
        "id": "hxENue1rgYci",
        "colab_type": "code",
        "outputId": "3426d4c2-dbeb-45e2-a247-ef95c21f97de",
        "colab": {
          "base_uri": "https://localhost:8080/",
          "height": 51
        }
      },
      "source": [
        "score = int(input('請輸入一個成績?'))\n",
        "if score >= 80:\n",
        "  print('非常好')\n",
        "elif score >= 60:\n",
        "  print('不錯喔')\n",
        "else:\n",
        "  print('要加油')"
      ],
      "execution_count": 0,
      "outputs": [
        {
          "output_type": "stream",
          "text": [
            "請輸入一個成績?66\n",
            "不錯喔\n"
          ],
          "name": "stdout"
        }
      ]
    },
    {
      "cell_type": "code",
      "metadata": {
        "id": "KjtrC8hVhEoX",
        "colab_type": "code",
        "colab": {
          "base_uri": "https://localhost:8080/",
          "height": 68
        },
        "outputId": "7a88fb26-dc0c-4abb-fd57-1612b89346a1"
      },
      "source": [
        "x = float(input('請輸入該點的X座標?'))\n",
        "y = float(input('請輸入該點的Y座標?'))\n",
        "if (x > 0):\n",
        "  if (y > 0):\n",
        "    print('該點在第一象限')\n",
        "  else:\n",
        "    print('該點在第四象限')\n",
        "else:\n",
        "    if (y > 0):\n",
        "      print('該點在第二象限')\n",
        "    else:\n",
        "      print('該點在第三象限')"
      ],
      "execution_count": 7,
      "outputs": [
        {
          "output_type": "stream",
          "text": [
            "請輸入該點的X座標?1\n",
            "請輸入該點的Y座標?1\n",
            "該點在第一象限\n"
          ],
          "name": "stdout"
        }
      ]
    },
    {
      "cell_type": "code",
      "metadata": {
        "id": "5DBJ8hNSlf04",
        "colab_type": "code",
        "colab": {
          "base_uri": "https://localhost:8080/",
          "height": 51
        },
        "outputId": "ba2d07c4-7bc1-410a-d78e-30e25f21e432"
      },
      "source": [
        "cost = int(input('請輸入購買金額?'))\n",
        "if cost >=2000:\n",
        "  print(cost*0.9)\n",
        "else:\n",
        "     print(cost)"
      ],
      "execution_count": 8,
      "outputs": [
        {
          "output_type": "stream",
          "text": [
            "請輸入購買金額?2000\n",
            "1800.0\n"
          ],
          "name": "stdout"
        }
      ]
    },
    {
      "cell_type": "code",
      "metadata": {
        "id": "C-NQMRrwmEC-",
        "colab_type": "code",
        "colab": {
          "base_uri": "https://localhost:8080/",
          "height": 51
        },
        "outputId": "23c43128-93a7-44c2-8d00-dbdde5c994bb"
      },
      "source": [
        "num = int(input('請輸入一個整數'))\n",
        "if num % 2 ==0:\n",
        "   print(num,'為偶數')\n",
        "else:\n",
        "     print(num,'為奇數')"
      ],
      "execution_count": 11,
      "outputs": [
        {
          "output_type": "stream",
          "text": [
            "請輸入一個整數13\n",
            "13 為奇數\n"
          ],
          "name": "stdout"
        }
      ]
    },
    {
      "cell_type": "code",
      "metadata": {
        "id": "XhOR1YYoms48",
        "colab_type": "code",
        "colab": {
          "base_uri": "https://localhost:8080/",
          "height": 51
        },
        "outputId": "0adb8476-1d7b-42fc-9132-1afa76b08862"
      },
      "source": [
        "num = int(input('請輸入一個整數'))\n",
        "if num % 2 ==1:\n",
        "  print(num,'為奇數')\n",
        "else:\n",
        "     print(num,'為偶數')"
      ],
      "execution_count": 12,
      "outputs": [
        {
          "output_type": "stream",
          "text": [
            "請輸入一個整數13\n",
            "13 為奇數\n"
          ],
          "name": "stdout"
        }
      ]
    },
    {
      "cell_type": "code",
      "metadata": {
        "id": "Q30hB2tEnMjV",
        "colab_type": "code",
        "colab": {
          "base_uri": "https://localhost:8080/",
          "height": 85
        },
        "outputId": "b3360abd-c1f7-487b-fdd8-e30e68df4b1e"
      },
      "source": [
        "a=int(input('請輸入三角形邊長a長度為?'))\n",
        "b=int(input('請輸入三角形邊長b長度為?'))\n",
        "c=int(input('請輸入三角形邊長c長度為?'))\n",
        "if (a<b+c)and(b<c+a)and(c<a+b):\n",
        "  print('可構成三角形')\n",
        "else:\n",
        "     print('無法構成三角形')"
      ],
      "execution_count": 13,
      "outputs": [
        {
          "output_type": "stream",
          "text": [
            "請輸入三角形邊長a長度為?11\n",
            "請輸入三角形邊長b長度為?12\n",
            "請輸入三角形邊長c長度為?1\n",
            "無法構成三角形\n"
          ],
          "name": "stdout"
        }
      ]
    },
    {
      "cell_type": "code",
      "metadata": {
        "id": "dwZPdGX1oG_7",
        "colab_type": "code",
        "colab": {}
      },
      "source": [
        ""
      ],
      "execution_count": 0,
      "outputs": []
    }
  ]
}