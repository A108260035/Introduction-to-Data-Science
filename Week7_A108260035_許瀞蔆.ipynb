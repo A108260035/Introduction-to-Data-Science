{
  "nbformat": 4,
  "nbformat_minor": 0,
  "metadata": {
    "colab": {
      "name": "Week7-A108260035-許瀞蔆.ipynb",
      "provenance": [],
      "include_colab_link": true
    },
    "kernelspec": {
      "name": "python3",
      "display_name": "Python 3"
    }
  },
  "cells": [
    {
      "cell_type": "markdown",
      "metadata": {
        "id": "view-in-github",
        "colab_type": "text"
      },
      "source": [
        "<a href=\"https://colab.research.google.com/github/A316895/Introduction-to-Data-Science/blob/master/Week7_A108260035_%E8%A8%B1%E7%80%9E%E8%94%86.ipynb\" target=\"_parent\"><img src=\"https://colab.research.google.com/assets/colab-badge.svg\" alt=\"Open In Colab\"/></a>"
      ]
    },
    {
      "cell_type": "code",
      "metadata": {
        "id": "lNFTyHClKEiu",
        "colab_type": "code",
        "colab": {
          "base_uri": "https://localhost:8080/",
          "height": 102
        },
        "outputId": "cc77cd10-ce9d-457c-9213-2127f72e7e11"
      },
      "source": [
        "s1 =\"123\"\n",
        "s2 = \"456\"\n",
        "s3 = s1 + s2\n",
        "print(s3)\n",
        "s4 = s1 * 2\n",
        "print(s4)\n",
        "\n",
        "s5 = '春眠不覺曉，處處聞啼鳥。\\n\\\n",
        "夜來風雨聲，花落知多少。\\n\\\n",
        "\\t作者\"孟浩然\" 詩名\"春曉\"'\n",
        "print(s5)"
      ],
      "execution_count": 3,
      "outputs": [
        {
          "output_type": "stream",
          "text": [
            "123456\n",
            "123123\n",
            "春眠不覺曉，處處聞啼鳥。\n",
            "夜來風雨聲，花落知多少。\n",
            "\t作者\"孟浩然\" 詩名\"春曉\"\n"
          ],
          "name": "stdout"
        }
      ]
    },
    {
      "cell_type": "code",
      "metadata": {
        "id": "DPNdJETfRsIU",
        "colab_type": "code",
        "colab": {
          "base_uri": "https://localhost:8080/",
          "height": 170
        },
        "outputId": "756fccdd-0e19-4863-f0fa-2f4bf2549634"
      },
      "source": [
        "s='123456789'\n",
        "print(s[0])\n",
        "print(s[1])\n",
        "print(s[-1])\n",
        "print(s[-2])\n",
        "s='0123456789'\n",
        "print('s=',s)\n",
        "print('s[0]=',s[0])\n",
        "print('s[1]=',s[1])\n",
        "print('s[-1]',s[-1])\n",
        "print('s[-2]',s[-2])"
      ],
      "execution_count": 4,
      "outputs": [
        {
          "output_type": "stream",
          "text": [
            "1\n",
            "2\n",
            "9\n",
            "8\n",
            "s= 0123456789\n",
            "s[0]= 0\n",
            "s[1]= 1\n",
            "s[-1] 9\n",
            "s[-2] 8\n"
          ],
          "name": "stdout"
        }
      ]
    },
    {
      "cell_type": "code",
      "metadata": {
        "id": "da21SIxQTKhw",
        "colab_type": "code",
        "colab": {
          "base_uri": "https://localhost:8080/",
          "height": 170
        },
        "outputId": "b6ea0253-6964-4a67-d3a4-c16fc5c4ec48"
      },
      "source": [
        "print('s=', s, 's[:]=', s[:])\n",
        "print('s=', s, 's[5:]=', s[5:])\n",
        "print('s=', s, 's[-2:]=', s[-2:])\n",
        "print('s=', s, 's[:5]=', s[:5])\n",
        "print('s=', s, 's[:-2]=', s[:-2])\n",
        "print('s=', s, 's[7:9]=', s[7:9])\n",
        "print('s=', s, 's[-4:-1]=', s[-4:-1])\n",
        "print('s=', s, 's[5:-2]=', s[5:-2])\n",
        "print('s=', s, 's[2:10:2]=', s[2:10:2])"
      ],
      "execution_count": 5,
      "outputs": [
        {
          "output_type": "stream",
          "text": [
            "s= 0123456789 s[:]= 0123456789\n",
            "s= 0123456789 s[5:]= 56789\n",
            "s= 0123456789 s[-2:]= 89\n",
            "s= 0123456789 s[:5]= 01234\n",
            "s= 0123456789 s[:-2]= 01234567\n",
            "s= 0123456789 s[7:9]= 78\n",
            "s= 0123456789 s[-4:-1]= 678\n",
            "s= 0123456789 s[5:-2]= 567\n",
            "s= 0123456789 s[2:10:2]= 2468\n"
          ],
          "name": "stdout"
        }
      ]
    },
    {
      "cell_type": "code",
      "metadata": {
        "id": "g0OmSvRjUWMe",
        "colab_type": "code",
        "colab": {
          "base_uri": "https://localhost:8080/",
          "height": 68
        },
        "outputId": "1f6ae8ed-669d-45ea-ec09-0a4a83edf52c"
      },
      "source": [
        "s = '春眠不覺曉，處處聞啼鳥，夜來風雨聲，花落知多少。'\n",
        "print(len(s))\n",
        "s1='春眠不覺曉，處處聞啼鳥，夜來風雨聲，花落知多少。'\n",
        "list1=s1.split('，')\n",
        "print(list1)\n",
        "list1 = ['春眠不覺曉','處處聞啼鳥','夜來風雨聲','花落知多少。']\n",
        "s2='，'.join(list1)\n",
        "print(s2)"
      ],
      "execution_count": 12,
      "outputs": [
        {
          "output_type": "stream",
          "text": [
            "24\n",
            "['春眠不覺曉', '處處聞啼鳥', '夜來風雨聲', '花落知多少。']\n",
            "春眠不覺曉，處處聞啼鳥，夜來風雨聲，花落知多少。\n"
          ],
          "name": "stdout"
        }
      ]
    },
    {
      "cell_type": "code",
      "metadata": {
        "id": "VVAM3vJRVo0Q",
        "colab_type": "code",
        "colab": {
          "base_uri": "https://localhost:8080/",
          "height": 68
        },
        "outputId": "3491688d-74a6-4732-fc43-4f84974d7780"
      },
      "source": [
        "s1='春眠不覺曉，處處聞啼鳥，夜來風雨聲，花落知多少。'\n",
        "print(s1.find('花落'))\n",
        "print(s1.count('處'))\n",
        "s3=s1.replace('春','冬')\n",
        "print(s3)"
      ],
      "execution_count": 14,
      "outputs": [
        {
          "output_type": "stream",
          "text": [
            "18\n",
            "2\n",
            "冬眠不覺曉，處處聞啼鳥，夜來風雨聲，花落知多少。\n"
          ],
          "name": "stdout"
        }
      ]
    },
    {
      "cell_type": "code",
      "metadata": {
        "id": "LgdyNnbIY1VC",
        "colab_type": "code",
        "colab": {
          "base_uri": "https://localhost:8080/",
          "height": 102
        },
        "outputId": "f65c0448-5b04-48ea-b0e3-47ef3464e466"
      },
      "source": [
        "s1='An apple a day'\n",
        "print(s1.capitalize())\n",
        "print(s1.title())\n",
        "print(s1.swapcase())\n",
        "print(s1.upper())\n",
        "print(s1.lower())"
      ],
      "execution_count": 17,
      "outputs": [
        {
          "output_type": "stream",
          "text": [
            "An apple a day\n",
            "An Apple A Day\n",
            "aN APPLE A DAY\n",
            "AN APPLE A DAY\n",
            "an apple a day\n"
          ],
          "name": "stdout"
        }
      ]
    },
    {
      "cell_type": "code",
      "metadata": {
        "id": "cI6lFlSFZieD",
        "colab_type": "code",
        "colab": {
          "base_uri": "https://localhost:8080/",
          "height": 119
        },
        "outputId": "682004e9-7981-44bb-8fc3-ae08aefcb77f"
      },
      "source": [
        "t1=()\n",
        "print(t1)\n",
        "t2=1,2,3\n",
        "print(t2)\n",
        "t3=(1,2,3)\n",
        "print(t3)\n",
        "list1=[1,2,3,4]\n",
        "t4=tuple(list1)\n",
        "print(t4)\n",
        "t4=(1,2,3,4)\n",
        "t5=(t4,5,6)\n",
        "print(t5)\n",
        "t6=('z',)\n",
        "print(t6)"
      ],
      "execution_count": 18,
      "outputs": [
        {
          "output_type": "stream",
          "text": [
            "()\n",
            "(1, 2, 3)\n",
            "(1, 2, 3)\n",
            "(1, 2, 3, 4)\n",
            "((1, 2, 3, 4), 5, 6)\n",
            "('z',)\n"
          ],
          "name": "stdout"
        }
      ]
    },
    {
      "cell_type": "code",
      "metadata": {
        "id": "kD4r8_fHaj9k",
        "colab_type": "code",
        "colab": {
          "base_uri": "https://localhost:8080/",
          "height": 68
        },
        "outputId": "b9fe3ee7-0a32-4f5b-a849-f59d824c4c3a"
      },
      "source": [
        "t3=(1,2,3)\n",
        "print(t3[0])\n",
        "t4=(1,2,3,4)\n",
        "t5=(t4,5,6)\n",
        "print(len(t5))\n",
        "print(t5[0][0])"
      ],
      "execution_count": 19,
      "outputs": [
        {
          "output_type": "stream",
          "text": [
            "1\n",
            "3\n",
            "1\n"
          ],
          "name": "stdout"
        }
      ]
    },
    {
      "cell_type": "code",
      "metadata": {
        "id": "okrPY111bWGY",
        "colab_type": "code",
        "colab": {
          "base_uri": "https://localhost:8080/",
          "height": 68
        },
        "outputId": "e2617356-d4cd-4f13-ebf8-64d72e2a846b"
      },
      "source": [
        "t3=(1,2,3)\n",
        "a,b,c=t3\n",
        "print('a=',a,',b=',b,',c=',c)\n",
        "a=10\n",
        "b=20\n",
        "print('交換前','a=',a,',b=',b)\n",
        "a,b=b,a\n",
        "print('交換後','a=',a,',b,',b)"
      ],
      "execution_count": 20,
      "outputs": [
        {
          "output_type": "stream",
          "text": [
            "a= 1 ,b= 2 ,c= 3\n",
            "交換前 a= 10 ,b= 20\n",
            "交換後 a= 20 ,b, 10\n"
          ],
          "name": "stdout"
        }
      ]
    },
    {
      "cell_type": "code",
      "metadata": {
        "id": "nZL9x02rcdIg",
        "colab_type": "code",
        "colab": {
          "base_uri": "https://localhost:8080/",
          "height": 119
        },
        "outputId": "d9fb8034-267a-43ff-8052-acaa04981a38"
      },
      "source": [
        "\n",
        "shoplist=['牛奶','蛋','咖啡豆','西瓜','鳳梨']\n",
        "print('購物清單shhoplist為')\n",
        "print(shoplist)\n",
        "listm=[1,2.0,'Python']\n",
        "print('串列可以包含各種資料型別的元素')\n",
        "print(listm)\n",
        "list1=list('Python')\n",
        "print(list1)\n",
        "tuple2=('a','b',1,2)\n",
        "list2=(list(tuple2))\n",
        "print(list2)"
      ],
      "execution_count": 21,
      "outputs": [
        {
          "output_type": "stream",
          "text": [
            "購物清單shhoplist為\n",
            "['牛奶', '蛋', '咖啡豆', '西瓜', '鳳梨']\n",
            "串列可以包含各種資料型別的元素\n",
            "[1, 2.0, 'Python']\n",
            "['P', 'y', 't', 'h', 'o', 'n']\n",
            "['a', 'b', 1, 2]\n"
          ],
          "name": "stdout"
        }
      ]
    },
    {
      "cell_type": "code",
      "metadata": {
        "id": "5BJvcwsWedWm",
        "colab_type": "code",
        "colab": {
          "base_uri": "https://localhost:8080/",
          "height": 51
        },
        "outputId": "ce0ce728-e422-4afe-9184-0ae2926760d7"
      },
      "source": [
        "shoplist=['牛奶','蛋','咖啡豆','西瓜','鳳梨']\n",
        "print('購物清單shoplist的長度為',len(shoplist))\n",
        "shoplist1=['牛奶','蛋','咖啡豆']\n",
        "shoplist2=['西瓜','鳳梨']\n",
        "shoplist_all=shoplist1+shoplist2\n",
        "print(shoplist_all)"
      ],
      "execution_count": 22,
      "outputs": [
        {
          "output_type": "stream",
          "text": [
            "購物清單shoplist的長度為 5\n",
            "['牛奶', '蛋', '咖啡豆', '西瓜', '鳳梨']\n"
          ],
          "name": "stdout"
        }
      ]
    },
    {
      "cell_type": "code",
      "metadata": {
        "id": "3sziI17nfdIc",
        "colab_type": "code",
        "colab": {
          "base_uri": "https://localhost:8080/",
          "height": 187
        },
        "outputId": "4ee672e7-207c-47a1-99a5-c22cf5c7f89e"
      },
      "source": [
        "shoplist=['牛奶','蛋','咖啡豆','西瓜','鳳梨']\n",
        "print('顯示shoplist[0]',shoplist[0])\n",
        "index=shoplist.index('咖啡豆')\n",
        "print(\"執行 index=shoplist.index(咖啡豆)後\")\n",
        "print('index=',index)\n",
        "shoplist[1]='皮蛋'\n",
        "print(\"執行 shoplist='皮蛋'後\")\n",
        "print(shoplist)\n",
        "a=list('abcdefghijk')\n",
        "print('a[:]為',a[:])\n",
        "print('a[:5]為',a[:5])\n",
        "print('a[5:]為',a[5:])\n",
        "print('a[:-5]為',a[:-5])\n",
        "print('a[-5:]為',a[-5:])"
      ],
      "execution_count": 23,
      "outputs": [
        {
          "output_type": "stream",
          "text": [
            "顯示shoplist[0] 牛奶\n",
            "執行 index=shoplist.index(咖啡豆)後\n",
            "index= 2\n",
            "執行 shoplist='皮蛋'後\n",
            "['牛奶', '皮蛋', '咖啡豆', '西瓜', '鳳梨']\n",
            "a[:]為 ['a', 'b', 'c', 'd', 'e', 'f', 'g', 'h', 'i', 'j', 'k']\n",
            "a[:5]為 ['a', 'b', 'c', 'd', 'e']\n",
            "a[5:]為 ['f', 'g', 'h', 'i', 'j', 'k']\n",
            "a[:-5]為 ['a', 'b', 'c', 'd', 'e', 'f']\n",
            "a[-5:]為 ['g', 'h', 'i', 'j', 'k']\n"
          ],
          "name": "stdout"
        }
      ]
    },
    {
      "cell_type": "code",
      "metadata": {
        "id": "G4GMYZ9hhp1x",
        "colab_type": "code",
        "colab": {}
      },
      "source": [
        ""
      ],
      "execution_count": 0,
      "outputs": []
    }
  ]
}