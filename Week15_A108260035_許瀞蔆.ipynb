{
  "nbformat": 4,
  "nbformat_minor": 0,
  "metadata": {
    "colab": {
      "name": "Week15-A108260035-許瀞蔆.ipynb",
      "provenance": [],
      "include_colab_link": true
    },
    "kernelspec": {
      "name": "python3",
      "display_name": "Python 3"
    }
  },
  "cells": [
    {
      "cell_type": "markdown",
      "metadata": {
        "id": "view-in-github",
        "colab_type": "text"
      },
      "source": [
        "<a href=\"https://colab.research.google.com/github/A316895/Introduction-to-Data-Science/blob/master/Week15_A108260035_%E8%A8%B1%E7%80%9E%E8%94%86.ipynb\" target=\"_parent\"><img src=\"https://colab.research.google.com/assets/colab-badge.svg\" alt=\"Open In Colab\"/></a>"
      ]
    },
    {
      "cell_type": "code",
      "metadata": {
        "id": "7h-ZMr5gqUZq",
        "colab_type": "code",
        "colab": {
          "base_uri": "https://localhost:8080/",
          "height": 34
        },
        "outputId": "6e7e1fb8-e362-4750-a4ae-4eea3cd32147"
      },
      "source": [
        "x = 5\n",
        "if x < 10:\n",
        "  print(\"x小於10\")"
      ],
      "execution_count": 1,
      "outputs": [
        {
          "output_type": "stream",
          "text": [
            "x小於10\n"
          ],
          "name": "stdout"
        }
      ]
    },
    {
      "cell_type": "code",
      "metadata": {
        "id": "XGHwj5VwrJOn",
        "colab_type": "code",
        "colab": {}
      },
      "source": [
        "x = 5\n",
        "while x < 10:\n",
        "  print(\"x小於10\")"
      ],
      "execution_count": 0,
      "outputs": []
    },
    {
      "cell_type": "code",
      "metadata": {
        "id": "VAoP7KgPr4Uc",
        "colab_type": "code",
        "colab": {
          "base_uri": "https://localhost:8080/",
          "height": 102
        },
        "outputId": "394e3000-d0c5-4fcf-cced-c35a31c6e6ac"
      },
      "source": [
        "n = 1\n",
        "while n < 5:\n",
        "  print(\"變數n是\",n)\n",
        "  n = n+1\n",
        "print(\"Finished\")"
      ],
      "execution_count": 3,
      "outputs": [
        {
          "output_type": "stream",
          "text": [
            "變數n是 1\n",
            "變數n是 2\n",
            "變數n是 3\n",
            "變數n是 4\n",
            "Finished\n"
          ],
          "name": "stdout"
        }
      ]
    },
    {
      "cell_type": "code",
      "metadata": {
        "id": "r58qbu7ttOa2",
        "colab_type": "code",
        "colab": {
          "base_uri": "https://localhost:8080/",
          "height": 187
        },
        "outputId": "9740cf0e-281b-4260-b8f5-03293eb97d30"
      },
      "source": [
        "x = 0\n",
        "while x < 10:\n",
        "  print(\"hello\")\n",
        "  x=x+1"
      ],
      "execution_count": 4,
      "outputs": [
        {
          "output_type": "stream",
          "text": [
            "hello\n",
            "hello\n",
            "hello\n",
            "hello\n",
            "hello\n",
            "hello\n",
            "hello\n",
            "hello\n",
            "hello\n",
            "hello\n"
          ],
          "name": "stdout"
        }
      ]
    },
    {
      "cell_type": "code",
      "metadata": {
        "id": "615nzCOxtsKT",
        "colab_type": "code",
        "colab": {
          "base_uri": "https://localhost:8080/",
          "height": 187
        },
        "outputId": "e82eaf8b-d4ad-4eff-a56f-c8b390e025dc"
      },
      "source": [
        "times = 0\n",
        "while times < 10:\n",
        "  times = times+1\n",
        "  print(\"這是第\",times,\"次的hello\")"
      ],
      "execution_count": 5,
      "outputs": [
        {
          "output_type": "stream",
          "text": [
            "這是第 1 次的hello\n",
            "這是第 2 次的hello\n",
            "這是第 3 次的hello\n",
            "這是第 4 次的hello\n",
            "這是第 5 次的hello\n",
            "這是第 6 次的hello\n",
            "這是第 7 次的hello\n",
            "這是第 8 次的hello\n",
            "這是第 9 次的hello\n",
            "這是第 10 次的hello\n"
          ],
          "name": "stdout"
        }
      ]
    },
    {
      "cell_type": "code",
      "metadata": {
        "id": "Sjj2NknVvkgy",
        "colab_type": "code",
        "colab": {
          "base_uri": "https://localhost:8080/",
          "height": 34
        },
        "outputId": "2712f821-d086-438e-a35d-e7065f958334"
      },
      "source": [
        "x = 0\n",
        "result =0\n",
        "while x < 10:\n",
        "  x =x+1\n",
        "  result =result + x\n",
        "print(\"答案是:\",result)"
      ],
      "execution_count": 7,
      "outputs": [
        {
          "output_type": "stream",
          "text": [
            "答案是: 55\n"
          ],
          "name": "stdout"
        }
      ]
    },
    {
      "cell_type": "code",
      "metadata": {
        "id": "v7xA2chvxA8n",
        "colab_type": "code",
        "colab": {
          "base_uri": "https://localhost:8080/",
          "height": 34
        },
        "outputId": "2449753e-22bb-46f0-e2c1-20e85befda03"
      },
      "source": [
        "x=0\n",
        "result=0\n",
        "while result <=50:\n",
        "  x =x+1\n",
        "  result=result+x\n",
        "print(\"最後加的x是\",x)"
      ],
      "execution_count": 8,
      "outputs": [
        {
          "output_type": "stream",
          "text": [
            "最後加的x是 10\n"
          ],
          "name": "stdout"
        }
      ]
    },
    {
      "cell_type": "code",
      "metadata": {
        "id": "q33ly7CLyeeB",
        "colab_type": "code",
        "colab": {
          "base_uri": "https://localhost:8080/",
          "height": 34
        },
        "outputId": "584ade14-800d-45d0-e32b-41cd1ca7fee4"
      },
      "source": [
        "sum=0\n",
        "x=1\n",
        "while x <11:\n",
        "  sum=sum+x\n",
        "  x=x+2\n",
        "print(\"1+3+5+7+9=\",sum)"
      ],
      "execution_count": 10,
      "outputs": [
        {
          "output_type": "stream",
          "text": [
            "1+3+5+7+9= 25\n"
          ],
          "name": "stdout"
        }
      ]
    },
    {
      "cell_type": "code",
      "metadata": {
        "id": "BPBz5n9uz8WS",
        "colab_type": "code",
        "colab": {
          "base_uri": "https://localhost:8080/",
          "height": 34
        },
        "outputId": "a1fe7320-21fd-41dd-f505-b030f6bc9396"
      },
      "source": [
        "sum=0\n",
        "i=0\n",
        "while sum <=1000:\n",
        "  i+=1\n",
        "  sum+=i*i\n",
        "print(\"最小的值為\",i)"
      ],
      "execution_count": 11,
      "outputs": [
        {
          "output_type": "stream",
          "text": [
            "最小的值為 14\n"
          ],
          "name": "stdout"
        }
      ]
    },
    {
      "cell_type": "code",
      "metadata": {
        "id": "s5ds4bt405wG",
        "colab_type": "code",
        "colab": {
          "base_uri": "https://localhost:8080/",
          "height": 68
        },
        "outputId": "e4dc0260-4593-4675-eb80-1022371349ba"
      },
      "source": [
        "i=1\n",
        "while(i<6):\n",
        "  print(i)\n",
        "  if i ==3:\n",
        "    break\n",
        "  i +=1"
      ],
      "execution_count": 12,
      "outputs": [
        {
          "output_type": "stream",
          "text": [
            "1\n",
            "2\n",
            "3\n"
          ],
          "name": "stdout"
        }
      ]
    },
    {
      "cell_type": "code",
      "metadata": {
        "id": "y9Cn2ScU3iMK",
        "colab_type": "code",
        "colab": {
          "base_uri": "https://localhost:8080/",
          "height": 102
        },
        "outputId": "49a85901-7ed8-4457-93fc-b7a9ce078d9c"
      },
      "source": [
        "i=1\n",
        "while(i<7):\n",
        "  i +=1\n",
        "  if i ==4:\n",
        "    continue\n",
        "  print(i)"
      ],
      "execution_count": 13,
      "outputs": [
        {
          "output_type": "stream",
          "text": [
            "2\n",
            "3\n",
            "5\n",
            "6\n",
            "7\n"
          ],
          "name": "stdout"
        }
      ]
    },
    {
      "cell_type": "code",
      "metadata": {
        "id": "fNznEAcr3-ly",
        "colab_type": "code",
        "colab": {
          "base_uri": "https://localhost:8080/",
          "height": 119
        },
        "outputId": "3e63ab35-6cd2-4427-fbe2-d73de6a98875"
      },
      "source": [
        "i=1\n",
        "while(i<6):\n",
        "  print(i)\n",
        "  if i ==6:\n",
        "    break\n",
        "  i +=1\n",
        "else:\n",
        "  print(\"while迴圈正常結束\")"
      ],
      "execution_count": 14,
      "outputs": [
        {
          "output_type": "stream",
          "text": [
            "1\n",
            "2\n",
            "3\n",
            "4\n",
            "5\n",
            "while迴圈正常結束\n"
          ],
          "name": "stdout"
        }
      ]
    },
    {
      "cell_type": "code",
      "metadata": {
        "id": "hupwHZkv4aal",
        "colab_type": "code",
        "colab": {}
      },
      "source": [
        ""
      ],
      "execution_count": 0,
      "outputs": []
    }
  ]
}