{
  "nbformat": 4,
  "nbformat_minor": 0,
  "metadata": {
    "colab": {
      "name": "Week10-A108260035-許瀞蔆.ipynb",
      "provenance": [],
      "include_colab_link": true
    },
    "kernelspec": {
      "name": "python3",
      "display_name": "Python 3"
    }
  },
  "cells": [
    {
      "cell_type": "markdown",
      "metadata": {
        "id": "view-in-github",
        "colab_type": "text"
      },
      "source": [
        "<a href=\"https://colab.research.google.com/github/A316895/Introduction-to-Data-Science/blob/master/Week10_A108260035_%E8%A8%B1%E7%80%9E%E8%94%86.ipynb\" target=\"_parent\"><img src=\"https://colab.research.google.com/assets/colab-badge.svg\" alt=\"Open In Colab\"/></a>"
      ]
    },
    {
      "cell_type": "code",
      "metadata": {
        "id": "OqsoxvdLWHLU",
        "colab_type": "code",
        "outputId": "a6bec263-f405-41cc-a0ab-e2fc7985bf69",
        "colab": {
          "base_uri": "https://localhost:8080/",
          "height": 102
        }
      },
      "source": [
        "print(\"You are on a deserted islandin a 2D eorld. \")\n",
        "print(\"Try to survive until rescue arrives!\")\n",
        "print(\"Available commands are in CAPITAL letters.\")\n",
        "print(\"Any other command exits the program\")\n",
        "\n",
        "print(\"First Look around. . .\")"
      ],
      "execution_count": 0,
      "outputs": [
        {
          "output_type": "stream",
          "text": [
            "You are on a deserted islandin a 2D eorld. \n",
            "Try to survive until rescue arrives!\n",
            "Available commands are in CAPITAL letters.\n",
            "Any other command exits the program\n",
            "First Look around. . .\n"
          ],
          "name": "stdout"
        }
      ]
    },
    {
      "cell_type": "code",
      "metadata": {
        "id": "Chkfi78LaqZd",
        "colab_type": "code",
        "colab": {
          "base_uri": "https://localhost:8080/",
          "height": 221
        },
        "outputId": "29d5a998-15ea-4a24-b6b5-204a93e02a33"
      },
      "source": [
        "do = input(\"::\")\n",
        "if do == \"LOOK\":\n",
        "  print(\"You are stuck in a sand ditch.\")\n",
        "  print(\"Crawl our LEFT or RIGHT.\")\n",
        "  do = input(\"::\")\n",
        "  if do == \"LEFT\":\n",
        "    print(\"You see a STARFISH and a CRAB on the sand.\")\n",
        "    print(\"And you're hungry! Which do you eat?\")\n",
        "    do = input(\"::\")\n",
        "    if do == \"STARFISH\":\n",
        "      print(\"Oh no! You immediately don't feel well.\")\n",
        "      print(\"You do not survive :(\")\n",
        "    elif do == \"CRAB\":\n",
        "      print(\"Row crab should be fine,right? YES or NO.\")\n",
        "      do = input(\"::\")\n",
        "      if do ==\"YES\":\n",
        "        print(\"Ok, You eat it raw. Fingers crossed.\")\n",
        "        print(\"Food in your belly helps you see a TREE.\")\n",
        "      do = input(\"::\")\n",
        "      if do == \"TRUE\":\n",
        "        print(\"It's a coconut tree@ And you're thirsty!\")\n",
        "        print(\"Do you drink the coconut water? YES or NO.\")\n",
        "        do = input(\"::\")\n",
        "        if do ==\"YES\":\n",
        "          print(\"Oh boy. Coconut water and raw crab don't mix.\")\n",
        "          print(\"You do not survive :(\")\n",
        "        elif do == \"No\":\n",
        "            print(\"Good choice.\")\n",
        "            print(\"Look! It's a rescue plane! You made it!\")\n",
        "        elif do == \"No\":\n",
        "            print(\"Well,there's nothing else left to eat.\")\n",
        "            print(\"You do not survuve :(\")\n",
        "        elif do == \"RIGHT\":\n",
        "          print(\"No can do. That side is very slippery.\")\n",
        "          print(\"You fall very far into some weird cavern.\")\n",
        "          print(\"You do not survive :(\")\n",
        "  else:\n",
        "    print(\"You can only do actions shown in capital letters.\")\n",
        "    print(\"Try again!\")"
      ],
      "execution_count": 6,
      "outputs": [
        {
          "output_type": "stream",
          "text": [
            "::LOOK\n",
            "You are stuck in a sand ditch.\n",
            "Crawl our LEFT or RIGHT.\n",
            "::LEFT\n",
            "You see a STARFISH and a CRAB on the sand.\n",
            "And you're hungry! Which do you eat?\n",
            "::CRAB\n",
            "Row crab should be fine,right? YES or NO.\n",
            "::YES\n",
            "Ok, You eat it raw. Fingers crossed.\n",
            "Food in your belly helps you see a TREE.\n",
            "::TREE\n"
          ],
          "name": "stdout"
        }
      ]
    },
    {
      "cell_type": "code",
      "metadata": {
        "id": "Mj5Ap4-NksG0",
        "colab_type": "code",
        "colab": {
          "base_uri": "https://localhost:8080/",
          "height": 85
        },
        "outputId": "9020400d-6fb1-46e8-a2ce-ee51bdb0f8dd"
      },
      "source": [
        "import random\n",
        "my_choice = int(input(\"請出拳[0] 剪刀 [1] 石頭 [2] 布\"))\n",
        "print(\"我出拳為\", my_choice)\n",
        "com_choice = random.randint(0,2)\n",
        "print(\"電腦出拳為\", com_choice)\n",
        "if my_choice == (com_choice + 1) %3:\n",
        "  print(\"我贏了\")\n",
        "elif my_choice == com_choice:\n",
        "  print(\"平手\")\n",
        "else:\n",
        "  print(\"我輸了\")"
      ],
      "execution_count": 15,
      "outputs": [
        {
          "output_type": "stream",
          "text": [
            "請出拳[0] 剪刀 [1] 石頭 [2] 布2\n",
            "我出拳為 2\n",
            "電腦出拳為 1\n",
            "我贏了\n"
          ],
          "name": "stdout"
        }
      ]
    },
    {
      "cell_type": "code",
      "metadata": {
        "id": "kv9uQpp0lHCB",
        "colab_type": "code",
        "colab": {
          "base_uri": "https://localhost:8080/",
          "height": 68
        },
        "outputId": "56c8fd55-df0f-47e1-9dd2-be267f338375"
      },
      "source": [
        "import random\n",
        "my_choice = int(input(\"請出拳 [0] 蟲 [1] 雞 [2] 老虎 [3] 棒⼦\"))\n",
        "print(\"你出的拳:\", my_choice)\n",
        "com_choice = random.randint(0, 3)\n",
        "print(\"電腦出拳為\", com_choice)"
      ],
      "execution_count": 17,
      "outputs": [
        {
          "output_type": "stream",
          "text": [
            "請出拳 [0] 蟲 [1] 雞 [2] 老虎 [3] 棒⼦1\n",
            "你出的拳: 1\n",
            "電腦出拳為 3\n"
          ],
          "name": "stdout"
        }
      ]
    },
    {
      "cell_type": "code",
      "metadata": {
        "id": "6sJxlZwqo0eg",
        "colab_type": "code",
        "colab": {}
      },
      "source": [
        ""
      ],
      "execution_count": 0,
      "outputs": []
    }
  ]
}