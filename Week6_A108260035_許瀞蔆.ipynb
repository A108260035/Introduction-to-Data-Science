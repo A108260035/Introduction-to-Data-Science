{
  "nbformat": 4,
  "nbformat_minor": 0,
  "metadata": {
    "colab": {
      "name": "Week6-A108260035-許瀞蔆.ipynb",
      "provenance": [],
      "include_colab_link": true
    },
    "kernelspec": {
      "name": "python3",
      "display_name": "Python 3"
    }
  },
  "cells": [
    {
      "cell_type": "markdown",
      "metadata": {
        "id": "view-in-github",
        "colab_type": "text"
      },
      "source": [
        "<a href=\"https://colab.research.google.com/github/A316895/Introduction-to-Data-Science/blob/master/Week6_A108260035_%E8%A8%B1%E7%80%9E%E8%94%86.ipynb\" target=\"_parent\"><img src=\"https://colab.research.google.com/assets/colab-badge.svg\" alt=\"Open In Colab\"/></a>"
      ]
    },
    {
      "cell_type": "code",
      "metadata": {
        "id": "kXr1y67_PwwX",
        "colab_type": "code",
        "outputId": "b4fdcab8-c9da-4ed5-cc3b-3d9f6ac1df2a",
        "colab": {
          "base_uri": "https://localhost:8080/",
          "height": 85
        }
      },
      "source": [
        "minutes_to_convert = 123\n",
        "hours_decimal = minutes_to_convert/60\n",
        "hours_part = int(hours_decimal)\n",
        "minutes_decimal = hours_decimal-hours_part\n",
        "minutes_part = round(minutes_decimal*60)\n",
        "print(\"Hours\")\n",
        "print(hours_part)\n",
        "print(\"Minutes\")\n",
        "print(minutes_part)"
      ],
      "execution_count": 0,
      "outputs": [
        {
          "output_type": "stream",
          "text": [
            "Hours\n",
            "2\n",
            "Minutes\n",
            "3\n"
          ],
          "name": "stdout"
        }
      ]
    },
    {
      "cell_type": "code",
      "metadata": {
        "id": "zrF_ALy0QQKQ",
        "colab_type": "code",
        "outputId": "7fa19b25-4a44-40c4-d1c0-02e88fda06c9",
        "colab": {
          "base_uri": "https://localhost:8080/",
          "height": 85
        }
      },
      "source": [
        "minutes_to_convert = 123\n",
        "hours_decimal = minutes_to_convert/60\n",
        "hours_part = int(hours_decimal)\n",
        "minutes_part = minutes_to_convert%60\n",
        "print(\"Hours\")\n",
        "print(hours_part)\n",
        "print(\"Minutes\")\n",
        "print(minutes_part)"
      ],
      "execution_count": 0,
      "outputs": [
        {
          "output_type": "stream",
          "text": [
            "Hours\n",
            "2\n",
            "Minutes\n",
            "3\n"
          ],
          "name": "stdout"
        }
      ]
    },
    {
      "cell_type": "code",
      "metadata": {
        "id": "fsPRm6gUTG0q",
        "colab_type": "code",
        "outputId": "921cf72d-da77-41fc-8dbb-248697cd7a7c",
        "colab": {
          "base_uri": "https://localhost:8080/",
          "height": 119
        }
      },
      "source": [
        "name = input('請問貴姓大名？')\n",
        "print('你好，', name)\n",
        "y = int(input('請問年紀？'))\n",
        "print('原來你', y,'歲')\n",
        "w = float(input('請問體重？'))\n",
        "print('體重為', w)"
      ],
      "execution_count": 0,
      "outputs": [
        {
          "output_type": "stream",
          "text": [
            "請問貴姓大名？許瀞蔆\n",
            "你好， 許瀞蔆\n",
            "請問年紀？18\n",
            "原來你 18 歲\n",
            "請問體重？42\n",
            "體重為 42.0\n"
          ],
          "name": "stdout"
        }
      ]
    },
    {
      "cell_type": "code",
      "metadata": {
        "id": "BiD8VCZJTVgz",
        "colab_type": "code",
        "outputId": "60042b7e-1adb-44f9-b4a1-d328521db90e",
        "colab": {
          "base_uri": "https://localhost:8080/",
          "height": 85
        }
      },
      "source": [
        "上衣 = int(input('請輸入上衣數量?'))\n",
        "褲子 = int(input('請輸入褲子數量?'))\n",
        "背心 = int(input('請輸入背心數量?'))\n",
        "總金額 = 上衣*300 +褲子*350 +背心*400\n",
        "print('訂購服裝的總金額為',總金額)"
      ],
      "execution_count": 0,
      "outputs": [
        {
          "output_type": "stream",
          "text": [
            "請輸入上衣數量?2\n",
            "請輸入褲子數量?2\n",
            "請輸入背心數量?2\n",
            "訂購服裝的總金額為 2100\n"
          ],
          "name": "stdout"
        }
      ]
    },
    {
      "cell_type": "code",
      "metadata": {
        "id": "WuvgqsU_U3Oy",
        "colab_type": "code",
        "outputId": "60757652-6930-4228-9ec6-d532851e8900",
        "colab": {
          "base_uri": "https://localhost:8080/",
          "height": 51
        }
      },
      "source": [
        "半徑 = float(input('請輸入半徑?'))\n",
        "PI = 3.14159\n",
        "圓周長 = 2*PI*半徑\n",
        "園面積 = 半徑*半徑*PI\n",
        "print('圓周長為',圓周長,'園面積為',園面積)"
      ],
      "execution_count": 0,
      "outputs": [
        {
          "output_type": "stream",
          "text": [
            "請輸入半徑?5\n",
            "圓周長為 31.4159 園面積為 78.53975\n"
          ],
          "name": "stdout"
        }
      ]
    },
    {
      "cell_type": "code",
      "metadata": {
        "id": "-Fk37KXkWce-",
        "colab_type": "code",
        "outputId": "1c7a682b-7d8b-4736-9cf2-47b933861faa",
        "colab": {
          "base_uri": "https://localhost:8080/",
          "height": 102
        }
      },
      "source": [
        "\n",
        "a = int(input('請輸入第一次期中考成績?'))\n",
        "b = int(input('請輸入第二次期中考成績?'))\n",
        "c = int(input('請輸入期末考成績?'))\n",
        "y = (a+b+c)\n",
        "z = (y/3)\n",
        "print(\"總分為\",y)\n",
        "print(\"平均為\",z)"
      ],
      "execution_count": 0,
      "outputs": [
        {
          "output_type": "stream",
          "text": [
            "請輸入第一次期中考成績?75\n",
            "請輸入第二次期中考成績?80\n",
            "請輸入期末考成績?65\n",
            "總分為 220\n",
            "平均為 73.33333333333333\n"
          ],
          "name": "stdout"
        }
      ]
    },
    {
      "cell_type": "code",
      "metadata": {
        "id": "dn-jsACYa7If",
        "colab_type": "code",
        "outputId": "e0e5ea1b-998d-431f-cffd-38ed4939fc13",
        "colab": {
          "base_uri": "https://localhost:8080/",
          "height": 68
        }
      },
      "source": [
        "x=int(input(\"請輸入幾尺?\"))\n",
        "y=int(input(\"請輸入幾吋?\"))\n",
        "z=(x*12+y)*2.54\n",
        "print(\"轉換成\",z,\"公分\")"
      ],
      "execution_count": 0,
      "outputs": [
        {
          "output_type": "stream",
          "text": [
            "請輸入幾尺?5\n",
            "請輸入幾吋?8\n",
            "轉換成 172.72 公分\n"
          ],
          "name": "stdout"
        }
      ]
    },
    {
      "cell_type": "code",
      "metadata": {
        "id": "4KhT4bzyfFaa",
        "colab_type": "code",
        "colab": {
          "base_uri": "https://localhost:8080/",
          "height": 51
        },
        "outputId": "2a6c6370-2f8e-4e66-e9e6-a6d2056e9ac3"
      },
      "source": [
        "a=int(input(\"請輸入座號?\"))\n",
        "x=a/5\n",
        "組別=int(x+1)\n",
        "print(\"組別為\",組別)"
      ],
      "execution_count": 3,
      "outputs": [
        {
          "output_type": "stream",
          "text": [
            "請輸入座號?19\n",
            "組別為 4\n"
          ],
          "name": "stdout"
        }
      ]
    },
    {
      "cell_type": "code",
      "metadata": {
        "id": "taaeWCWPODH1",
        "colab_type": "code",
        "colab": {
          "base_uri": "https://localhost:8080/",
          "height": 51
        },
        "outputId": "1dfbb76a-a6c2-4ac2-e8d5-a8814a9ecc2c"
      },
      "source": [
        "a=int(input(\"請輸入購買飲料的罐數\"))\n",
        "b=int(a/12)\n",
        "c=int(a-b*12)\n",
        "一打價格=b*200\n",
        "個數價格=c*20\n",
        "總金額=一打價格+個數價格\n",
        "print(\"需花費\",總金額)"
      ],
      "execution_count": 5,
      "outputs": [
        {
          "output_type": "stream",
          "text": [
            "請輸入購買飲料的罐數30\n",
            "需花費 520\n"
          ],
          "name": "stdout"
        }
      ]
    },
    {
      "cell_type": "code",
      "metadata": {
        "id": "alV0d8STPxzN",
        "colab_type": "code",
        "colab": {}
      },
      "source": [
        ""
      ],
      "execution_count": 0,
      "outputs": []
    }
  ]
}